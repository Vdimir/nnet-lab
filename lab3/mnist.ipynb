{
 "cells": [
  {
   "cell_type": "code",
   "execution_count": 1,
   "metadata": {},
   "outputs": [],
   "source": [
    "from LoadMNIST import load_mnist\n",
    "import numpy as np\n",
    "import matplotlib.pyplot as plt"
   ]
  },
  {
   "cell_type": "code",
   "execution_count": 2,
   "metadata": {},
   "outputs": [],
   "source": [
    "%load_ext autoreload\n",
    "%autoreload 2"
   ]
  },
  {
   "cell_type": "code",
   "execution_count": 3,
   "metadata": {},
   "outputs": [],
   "source": [
    "X_data, y_data = load_mnist(path='./data')"
   ]
  },
  {
   "cell_type": "code",
   "execution_count": 4,
   "metadata": {},
   "outputs": [],
   "source": [
    "image_width = image_height = 28\n",
    "\n",
    "def display(img):\n",
    "    one_image = img.reshape(image_width, image_height)\n",
    "    \n",
    "#     plt.axis('off')\n",
    "    plt.imshow(one_image, cmap=plt.cm.binary)\n"
   ]
  },
  {
   "cell_type": "code",
   "execution_count": 5,
   "metadata": {},
   "outputs": [
    {
     "name": "stdout",
     "output_type": "stream",
     "text": [
      "[[3 8 7]\n",
      " [9 9 0]\n",
      " [1 1 5]]\n"
     ]
    },
    {
     "data": {
      "image/png": "[encoded data removed]",
      "text/plain": [
       "<matplotlib.figure.Figure at 0x7f9ad7b896a0>"
      ]
     },
     "metadata": {},
     "output_type": "display_data"
    }
   ],
   "source": [
    "s = 10000\n",
    "print(y_data[s:s+9].reshape(3,3))\n",
    "for i in range(9):\n",
    "    plt.subplot(3,3,i+1)\n",
    "    display(X_data[s+i])\n",
    "plt.show()"
   ]
  },
  {
   "cell_type": "code",
   "execution_count": 10,
   "metadata": {},
   "outputs": [],
   "source": [
    "val_count = 5000\n",
    "train_data = {\n",
    "    'X_train': X_data[val_count:],\n",
    "    'y_train': y_data[val_count:],\n",
    "    'X_val': X_data[:val_count],\n",
    "    'y_val': y_data[:val_count],\n",
    "}\n",
    "input_dim = train_data['X_train'].shape[1]"
   ]
  },
  {
   "cell_type": "code",
   "execution_count": 11,
   "metadata": {},
   "outputs": [],
   "source": [
    "from fc_net import FullyConnectedNet\n",
    "from solver import Solver"
   ]
  },
  {
   "cell_type": "code",
   "execution_count": 13,
   "metadata": {},
   "outputs": [
    {
     "name": "stdout",
     "output_type": "stream",
     "text": [
      "Lets overfit on small dataset\n",
      "0, train_acc: 0.111000, val_acc : 0.114000\n",
      "10, train_acc: 0.864000, val_acc : 0.772000\n",
      "20, train_acc: 0.950000, val_acc : 0.816000\n",
      "30, train_acc: 0.985000, val_acc : 0.836000\n",
      "40, train_acc: 1.000000, val_acc : 0.856000\n",
      "50, train_acc: 1.000000, val_acc : 0.862000\n",
      "60, train_acc: 1.000000, val_acc : 0.862000\n",
      "70, train_acc: 1.000000, val_acc : 0.860000\n",
      "80, train_acc: 1.000000, val_acc : 0.860000\n",
      "90, train_acc: 1.000000, val_acc : 0.856000\n"
     ]
    }
   ],
   "source": [
    "print(\"Lets overfit on small dataset\")\n",
    "model = FullyConnectedNet([100,100], input_dim, reg=1e-4, use_batchnorm=True)\n",
    "solver = Solver(model, {\n",
    "                    'X_train': X_data[:1000],\n",
    "                    'y_train': y_data[:1000],\n",
    "                    'X_val': X_data[1000:1500],\n",
    "                    'y_val': y_data[1000:1500]},\n",
    "                learning_rate=1e-1)\n",
    "\n",
    "solver.train(max_iters=100)\n",
    "pass"
   ]
  },
  {
   "cell_type": "code",
   "execution_count": 15,
   "metadata": {},
   "outputs": [
    {
     "name": "stdout",
     "output_type": "stream",
     "text": [
      "0.864018, 0.871800  scale: 0.022912 lr: 0.001889 reg:0.000073\n",
      "0.380727, 0.400400  scale: 2.372087 lr: 0.003171 reg:0.064496\n",
      "0.120127, 0.121800  scale: 0.867344 lr: 0.000137 reg:0.001576\n",
      "0.986782, 0.976000  scale: 0.002987 lr: 0.002183 reg:0.187595\n"
     ]
    }
   ],
   "source": [
    "\n",
    "   \n",
    "res = 0\n",
    "iters = 0\n",
    "while res < 0.97:\n",
    "    iters += 1\n",
    "    weight_scale = 10**(np.random.uniform(-3, 1))\n",
    "    learning_rate = 10**(np.random.uniform(-5, -2))\n",
    "    reg = 10**(np.random.uniform(-6,1))\n",
    "    \n",
    "    model = FullyConnectedNet([100,100,100], input_dim, reg=reg, use_batchnorm=True, weight_scale=weight_scale)\n",
    "    solver = Solver(model, train_data, learning_rate=learning_rate)\n",
    "    (train_acc, val_acc) = solver.train(max_iters=1000, silent=True)\n",
    "    res = np.max(val_acc)\n",
    "    print(\"%f, %f  scale: %f lr: %f reg:%f\" % (train_acc[-1], val_acc[-1], weight_scale, learning_rate, reg))"
   ]
  },
  {
   "cell_type": "code",
   "execution_count": null,
   "metadata": {},
   "outputs": [],
   "source": [
    "\n",
    "# 0.821600, 0.822600  scale: 8.230964 lr: 0.000016 reg:0.001120 batch false\n",
    "# 0.959418, 0.958400  scale: 0.001241 lr: 0.007297 reg:0.000500 dropout 0.5\n",
    "# 0.955982, 0.952600  scale: 0.002370 lr: 0.006523 reg:0.000003 dropout 0.5\n"
   ]
  },
  {
   "cell_type": "code",
   "execution_count": 16,
   "metadata": {},
   "outputs": [
    {
     "name": "stdout",
     "output_type": "stream",
     "text": [
      "Test data accuracy: 0.979000 \n"
     ]
    }
   ],
   "source": [
    "X_test, y_test = load_mnist('testing', path='data')\n",
    "test_acc = solver.check_accuracy(X_test, y_test)\n",
    "print(\"Test data accuracy: %f \" % test_acc)"
   ]
  },
  {
   "cell_type": "code",
   "execution_count": null,
   "metadata": {},
   "outputs": [],
   "source": []
  },
  {
   "cell_type": "code",
   "execution_count": 17,
   "metadata": {},
   "outputs": [],
   "source": [
    "y_pred = model.predict(X_test)\n",
    "mask = y_test != y_pred\n",
    "X_err = X_test[mask]\n",
    "y_err_pred = y_pred[mask]\n",
    "y_err_act = y_test[mask]"
   ]
  },
  {
   "cell_type": "code",
   "execution_count": 18,
   "metadata": {},
   "outputs": [
    {
     "name": "stdout",
     "output_type": "stream",
     "text": [
      "errors:\n"
     ]
    },
    {
     "data": {
      "image/png": "[encoded data removed]",
      "text/plain": [
       "<matplotlib.figure.Figure at 0x7f9ad59418d0>"
      ]
     },
     "metadata": {},
     "output_type": "display_data"
    },
    {
     "name": "stdout",
     "output_type": "stream",
     "text": [
      "predict: 7, actual: 5\n"
     ]
    },
    {
     "data": {
      "image/png": "[encoded data removed]",
      "text/plain": [
       "<matplotlib.figure.Figure at 0x7f9ad5957898>"
      ]
     },
     "metadata": {},
     "output_type": "display_data"
    },
    {
     "name": "stdout",
     "output_type": "stream",
     "text": [
      "predict: 5, actual: 8\n"
     ]
    },
    {
     "data": {
      "image/png": "[encoded data removed]",
      "text/plain": [
       "<matplotlib.figure.Figure at 0x7f9ad58f7630>"
      ]
     },
     "metadata": {},
     "output_type": "display_data"
    },
    {
     "name": "stdout",
     "output_type": "stream",
     "text": [
      "predict: 4, actual: 9\n"
     ]
    },
    {
     "data": {
      "image/png": "[encoded data removed]",
      "text/plain": [
       "<matplotlib.figure.Figure at 0x7f9ad58b43c8>"
      ]
     },
     "metadata": {},
     "output_type": "display_data"
    },
    {
     "name": "stdout",
     "output_type": "stream",
     "text": [
      "predict: 9, actual: 8\n"
     ]
    }
   ],
   "source": [
    "print(\"errors:\")\n",
    "for i in range(4):\n",
    "    n = np.random.choice(y_err_pred.shape[0])\n",
    "    plt.figure(figsize=(2,2))\n",
    "    display(X_err[n])\n",
    "    plt.show()\n",
    "    print(\"predict: %d, actual: %d\" % (y_err_pred[n], y_err_act[n]))"
   ]
  },
  {
   "cell_type": "code",
   "execution_count": 478,
   "metadata": {},
   "outputs": [
    {
     "name": "stdout",
     "output_type": "stream",
     "text": [
      "(209,)\n",
      "[[ 0  1  2  3  4  5  6  7  8  9]\n",
      " [ 6 10 29 27 28 12 25 23 23 26]]\n"
     ]
    }
   ],
   "source": [
    "print(y_err_act.shape)\n",
    "print(np.vstack([np.arange(10),np.bincount(y_err_act)]))"
   ]
  },
  {
   "cell_type": "code",
   "execution_count": 433,
   "metadata": {},
   "outputs": [],
   "source": [
    "import pickle"
   ]
  },
  {
   "cell_type": "code",
   "execution_count": 434,
   "metadata": {},
   "outputs": [],
   "source": [
    "with open('data.pkl', 'wb') as f:\n",
    "    pickle.dump(model, f)"
   ]
  },
  {
   "cell_type": "code",
   "execution_count": 402,
   "metadata": {},
   "outputs": [],
   "source": [
    "with open('data.pkl', 'rb') as f:\n",
    "    model = pickle.load(f)"
   ]
  },
  {
   "cell_type": "code",
   "execution_count": null,
   "metadata": {},
   "outputs": [],
   "source": []
  },
  {
   "cell_type": "code",
   "execution_count": null,
   "metadata": {},
   "outputs": [],
   "source": []
  }
 ],
 "metadata": {
  "kernelspec": {
   "display_name": "Python 3",
   "language": "python",
   "name": "python3"
  },
  "language_info": {
   "codemirror_mode": {
    "name": "ipython",
    "version": 3
   },
   "file_extension": ".py",
   "mimetype": "text/x-python",
   "name": "python",
   "nbconvert_exporter": "python",
   "pygments_lexer": "ipython3",
   "version": "3.5.3"
  }
 },
 "nbformat": 4,
 "nbformat_minor": 2
}
